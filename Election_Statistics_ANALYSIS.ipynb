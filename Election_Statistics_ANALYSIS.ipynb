{
 "cells": [
  {
   "cell_type": "markdown",
   "metadata": {},
   "source": [
    "# Election Statistics ANALYSIS"
   ]
  },
  {
   "cell_type": "markdown",
   "metadata": {},
   "source": [
    "## Importing Libraries"
   ]
  },
  {
   "cell_type": "code",
   "execution_count": 1,
   "metadata": {},
   "outputs": [],
   "source": [
    "from pandas import DataFrame,read_csv,concat,options,set_option,to_datetime,to_numeric\n",
    "from os import listdir"
   ]
  },
  {
   "cell_type": "code",
   "execution_count": 2,
   "metadata": {},
   "outputs": [],
   "source": [
    "options.display.float_format = \"{:,.2f}\".format\n",
    "set_option('display.max_rows',None)"
   ]
  },
  {
   "cell_type": "markdown",
   "metadata": {},
   "source": [
    "## National/State Summaries"
   ]
  },
  {
   "cell_type": "markdown",
   "metadata": {},
   "source": [
    "### Load Data"
   ]
  },
  {
   "cell_type": "code",
   "execution_count": 3,
   "metadata": {},
   "outputs": [],
   "source": [
    "csv_files:list[str] = listdir('State_Summary_Results')\n",
    "data:dict[str,DataFrame] = {}\n",
    "df:DataFrame = DataFrame(['State','KH_Vote_Count', 'KH_Vote_Pct', 'DT_Vote_Count', 'DT_Vote_Pct','Pct_Reported'])"
   ]
  },
  {
   "cell_type": "code",
   "execution_count": 4,
   "metadata": {},
   "outputs": [],
   "source": [
    "for file in csv_files:\n",
    "    if('FINAL' in file):\n",
    "        data[file.replace('_Results.csv','').replace('FINAL_','')] = read_csv(f\"State_Summary_Results/{file}\")"
   ]
  },
  {
   "cell_type": "markdown",
   "metadata": {},
   "source": [
    "### Merge state summaries into one giant national table"
   ]
  },
  {
   "cell_type": "code",
   "execution_count": 5,
   "metadata": {},
   "outputs": [],
   "source": [
    "for key,item in data.items():\n",
    "    item.insert(loc=1,column='State',value=key)\n",
    "    df:DataFrame = concat([df,item],axis=0)"
   ]
  },
  {
   "cell_type": "code",
   "execution_count": 6,
   "metadata": {},
   "outputs": [],
   "source": [
    "all_states_summary_df = df.drop([0],axis=1).reset_index(drop=True).iloc[6:]"
   ]
  },
  {
   "cell_type": "markdown",
   "metadata": {},
   "source": [
    "### Add Nationwide Total Vote Count Columns"
   ]
  },
  {
   "cell_type": "code",
   "execution_count": 7,
   "metadata": {},
   "outputs": [],
   "source": [
    "total_votes:DataFrame = all_states_summary_df.groupby('Datetime_Extraction').sum(numeric_only=True)"
   ]
  },
  {
   "cell_type": "code",
   "execution_count": 8,
   "metadata": {},
   "outputs": [],
   "source": [
    "total_votes['Nationwide_Total_Votes'] = total_votes['KH_Vote_Count']+total_votes['DT_Vote_Count']\n",
    "total_votes['Additional_Votes_Since_Last_Update'] = total_votes['Nationwide_Total_Votes'].diff()\n",
    "#total_votes['Average_Additional_Votes_Per_Minute'] = total_votes['Additional_Votes_Since_Last_Update'].fillna(0).astype(float)/to_datetime(total_votes.index.to_series()).diff()"
   ]
  },
  {
   "cell_type": "code",
   "execution_count": 9,
   "metadata": {},
   "outputs": [],
   "source": [
    "vote_updates:DataFrame = total_votes.reset_index(drop=False).groupby('Nationwide_Total_Votes').first().reset_index()[['Datetime_Extraction','Nationwide_Total_Votes','KH_Vote_Count','DT_Vote_Count']]"
   ]
  },
  {
   "cell_type": "code",
   "execution_count": 10,
   "metadata": {},
   "outputs": [],
   "source": [
    "vote_updates['Vote_Change'] = vote_updates['Nationwide_Total_Votes'].diff().fillna(0)"
   ]
  },
  {
   "cell_type": "code",
   "execution_count": 11,
   "metadata": {},
   "outputs": [],
   "source": [
    "total_votes[total_votes['Additional_Votes_Since_Last_Update']>0][['KH_Vote_Count','DT_Vote_Count','Nationwide_Total_Votes','Additional_Votes_Since_Last_Update']].to_csv('ANALYSIS/Nationwide_Vote_Count_Updates.csv',index=True)"
   ]
  },
  {
   "cell_type": "code",
   "execution_count": 12,
   "metadata": {},
   "outputs": [
    {
     "name": "stdout",
     "output_type": "stream",
     "text": [
      "<class 'pandas.core.frame.DataFrame'>\n",
      "Index: 2443 entries, 2024-11-05 17:06:07.133829 to 2024-11-11 14:20:55.707590\n",
      "Data columns (total 4 columns):\n",
      " #   Column                              Non-Null Count  Dtype  \n",
      "---  ------                              --------------  -----  \n",
      " 0   KH_Vote_Count                       2443 non-null   float64\n",
      " 1   DT_Vote_Count                       2443 non-null   float64\n",
      " 2   Nationwide_Total_Votes              2443 non-null   float64\n",
      " 3   Additional_Votes_Since_Last_Update  2443 non-null   float64\n",
      "dtypes: float64(4)\n",
      "memory usage: 95.4+ KB\n"
     ]
    }
   ],
   "source": [
    "total_votes[total_votes['Additional_Votes_Since_Last_Update']>0][['KH_Vote_Count','DT_Vote_Count','Nationwide_Total_Votes','Additional_Votes_Since_Last_Update']].info()"
   ]
  },
  {
   "cell_type": "markdown",
   "metadata": {},
   "source": [
    "### Group State Summaries By Vote Count Changes"
   ]
  },
  {
   "cell_type": "code",
   "execution_count": 15,
   "metadata": {},
   "outputs": [
    {
     "name": "stdout",
     "output_type": "stream",
     "text": [
      "Arkansas\n",
      "Harris Negative Total: -95\n",
      "Trump Negative Total: -8,205\n",
      "\n",
      "Connecticut\n",
      "Harris Negative Total: -5,977\n",
      "Trump Negative Total: -3,844\n",
      "\n",
      "Florida\n",
      "Harris Negative Total: -3,858\n",
      "Trump Negative Total: -2,184\n",
      "\n",
      "Georgia\n",
      "Harris Negative Total: -1,049\n",
      "Trump Negative Total: -17\n",
      "\n",
      "Idaho\n",
      "Harris Negative Total: -2,299\n",
      "Trump Negative Total: 0\n",
      "\n",
      "Indiana\n",
      "Harris Negative Total: -11,229\n",
      "Trump Negative Total: -616\n",
      "\n",
      "Iowa\n",
      "Harris Negative Total: -1\n",
      "Trump Negative Total: 0\n",
      "\n",
      "Kansas\n",
      "Harris Negative Total: -223\n",
      "Trump Negative Total: -207\n",
      "\n",
      "Kentucky\n",
      "Harris Negative Total: -10,571\n",
      "Trump Negative Total: 0\n",
      "\n",
      "Maryland\n",
      "Harris Negative Total: -64\n",
      "Trump Negative Total: -14\n",
      "\n",
      "Massachusetts\n",
      "Harris Negative Total: -1,566\n",
      "Trump Negative Total: -3,621\n",
      "\n",
      "Michigan\n",
      "Harris Negative Total: -91,717\n",
      "Trump Negative Total: -166,812\n",
      "\n",
      "Minnesota\n",
      "Harris Negative Total: -14,959\n",
      "Trump Negative Total: -10,394\n",
      "\n",
      "Mississippi\n",
      "Harris Negative Total: 0\n",
      "Trump Negative Total: -2,874\n",
      "\n",
      "Montana\n",
      "Harris Negative Total: -364\n",
      "Trump Negative Total: -2,552\n",
      "\n",
      "Nevada\n",
      "Harris Negative Total: -667\n",
      "Trump Negative Total: -1,698\n",
      "\n",
      "New_Hampshire\n",
      "Harris Negative Total: -9\n",
      "Trump Negative Total: -2\n",
      "\n",
      "New_Jersey\n",
      "Harris Negative Total: -6,684\n",
      "Trump Negative Total: -27,185\n",
      "\n",
      "New_Mexico\n",
      "Harris Negative Total: -73,888\n",
      "Trump Negative Total: -67,017\n",
      "\n",
      "New_York\n",
      "Harris Negative Total: -68,042\n",
      "Trump Negative Total: -45,600\n",
      "\n",
      "North_Dakota\n",
      "Harris Negative Total: -478\n",
      "Trump Negative Total: -717\n",
      "\n",
      "Ohio\n",
      "Harris Negative Total: -888\n",
      "Trump Negative Total: -3,220\n",
      "\n",
      "Oklahoma\n",
      "Harris Negative Total: 0\n",
      "Trump Negative Total: -2\n",
      "\n",
      "Oregon\n",
      "Harris Negative Total: -81,723\n",
      "Trump Negative Total: -65,952\n",
      "\n",
      "Pennsylvania\n",
      "Harris Negative Total: -4,265\n",
      "Trump Negative Total: -1,159\n",
      "\n",
      "Rhode_Island\n",
      "Harris Negative Total: 0\n",
      "Trump Negative Total: -106\n",
      "\n",
      "South_Carolina\n",
      "Harris Negative Total: -206\n",
      "Trump Negative Total: -1,393\n",
      "\n",
      "South_Dakota\n",
      "Harris Negative Total: -53\n",
      "Trump Negative Total: -24\n",
      "\n",
      "Tennessee\n",
      "Harris Negative Total: -30\n",
      "Trump Negative Total: 0\n",
      "\n",
      "Texas\n",
      "Harris Negative Total: -326\n",
      "Trump Negative Total: -358\n",
      "\n",
      "Vermont\n",
      "Harris Negative Total: -5\n",
      "Trump Negative Total: -5\n",
      "\n",
      "Virginia\n",
      "Harris Negative Total: -2,371\n",
      "Trump Negative Total: -5,422\n",
      "\n",
      "Washington\n",
      "Harris Negative Total: -586\n",
      "Trump Negative Total: -1,732\n",
      "\n",
      "West_Virginia\n",
      "Harris Negative Total: -1,461\n",
      "Trump Negative Total: -1,871\n",
      "\n",
      "Wisconsin\n",
      "Harris Negative Total: -686\n",
      "Trump Negative Total: -478\n",
      "\n",
      "Wyoming\n",
      "Harris Negative Total: -3,652\n",
      "Trump Negative Total: 0\n",
      "\n"
     ]
    }
   ],
   "source": [
    "trump_total_negative_votes = 0\n",
    "harris_total_negative_votes = 0\n",
    "for key,item in data.items():\n",
    "    temp_df:DataFrame = item.copy()\n",
    "    temp_df.insert(5,'Total_Votes',temp_df['KH_Vote_Count']+temp_df['DT_Vote_Count'])\n",
    "    temp_df:DataFrame = temp_df.groupby('Total_Votes').first().reset_index(drop=False)\n",
    "    temp_df:DataFrame = temp_df.sort_values(by=['Datetime_Extraction'],axis=0).reset_index(drop=True)\n",
    "    temp_df['Additional_Votes_Since_Last_Update'] = temp_df['Total_Votes'].diff()\n",
    "    temp_df['Additional_Trump_Votes_Since_Last_Update'] = temp_df['DT_Vote_Count'].diff()\n",
    "    temp_df['Additional_Harris_Votes_Since_Last_Update'] = temp_df['KH_Vote_Count'].diff()\n",
    "    temp_df['Pct_New_Votes_For_Trump'] = (temp_df['Additional_Trump_Votes_Since_Last_Update']/temp_df['Additional_Votes_Since_Last_Update'])*100\n",
    "    temp_df['Pct_New_Votes_For_Harris'] = (temp_df['Additional_Harris_Votes_Since_Last_Update']/temp_df['Additional_Votes_Since_Last_Update'])*100\n",
    "    temp_df:DataFrame = temp_df.fillna(0)\n",
    "    cols = list(temp_df)\n",
    "    cols.insert(0, cols.pop(cols.index('Datetime_Extraction')))\n",
    "    temp_df = temp_df.loc[:, cols]\n",
    "    for col in temp_df.columns:\n",
    "        try:\n",
    "            temp_df[col] = temp_df[col].astype(float)\n",
    "        except:pass\n",
    "    temp_df.to_csv(f'ANALYSIS/State_Vote_Count_Updates/{key}_Vote_Count_Updates.csv',index=True,float_format='%.2f')\n",
    "    negative_vote_changes:DataFrame = temp_df[(temp_df['Additional_Harris_Votes_Since_Last_Update']<0)|\n",
    "                                              (temp_df['Additional_Trump_Votes_Since_Last_Update']<0)]\n",
    "    if(len(negative_vote_changes)>0):\n",
    "        harris_total_negative_votes += negative_vote_changes[(negative_vote_changes['Additional_Harris_Votes_Since_Last_Update']<0)]['Additional_Harris_Votes_Since_Last_Update'].sum()\n",
    "        trump_total_negative_votes += negative_vote_changes[(negative_vote_changes['Additional_Trump_Votes_Since_Last_Update']<0)]['Additional_Trump_Votes_Since_Last_Update'].sum()\n",
    "        print(f\"{key}\\n\"\\\n",
    "            f\"Harris Negative Total: {negative_vote_changes[(negative_vote_changes['Additional_Harris_Votes_Since_Last_Update']<0)]['Additional_Harris_Votes_Since_Last_Update'].sum():,.0f}\\n\"\\\n",
    "            f\"Trump Negative Total: {negative_vote_changes[(negative_vote_changes['Additional_Trump_Votes_Since_Last_Update']<0)]['Additional_Trump_Votes_Since_Last_Update'].sum():,.0f}\\n\")\n",
    "    negative_indexes:list = list(negative_vote_changes.index.copy())\n",
    "    final_indexes:list[int] = []\n",
    "    for index in negative_indexes:\n",
    "        final_indexes.append(index-1)\n",
    "        final_indexes.append(index)\n",
    "        final_indexes.append(index+1)\n",
    "    if(len(negative_vote_changes.index)>0):\n",
    "        try:\n",
    "            temp_df.iloc[final_indexes].drop_duplicates().to_csv(f\"ANALYSIS/Negative_Votes/{key}_NEGATIVE_Vote_Count_Updates.csv\",index=True,float_format=\"%.2f\")\n",
    "        except:\n",
    "            temp_df.iloc[final_indexes[:-1]].drop_duplicates().to_csv(f\"ANALYSIS/Negative_Votes/{key}_NEGATIVE_Vote_Count_Updates.csv\",index=True,float_format=\"%.2f\")\n",
    "        final_indexes.clear()\n",
    "        final_indexes:list[int] = []\n",
    "    final_indexes.clear()\n",
    "    final_indexes:list[int] = []"
   ]
  },
  {
   "cell_type": "code",
   "execution_count": 14,
   "metadata": {},
   "outputs": [
    {
     "name": "stdout",
     "output_type": "stream",
     "text": [
      "Harris Negative Votes Total: -389,992.0\n",
      "Trump Negative Votes Total: -425,281.0\n"
     ]
    }
   ],
   "source": [
    "print(f\"Harris Negative Votes Total: {harris_total_negative_votes:,}\\nTrump Negative Votes Total: {trump_total_negative_votes:,}\")"
   ]
  },
  {
   "cell_type": "code",
   "execution_count": null,
   "metadata": {},
   "outputs": [],
   "source": []
  }
 ],
 "metadata": {
  "kernelspec": {
   "display_name": "Python 3",
   "language": "python",
   "name": "python3"
  },
  "language_info": {
   "codemirror_mode": {
    "name": "ipython",
    "version": 3
   },
   "file_extension": ".py",
   "mimetype": "text/x-python",
   "name": "python",
   "nbconvert_exporter": "python",
   "pygments_lexer": "ipython3",
   "version": "3.11.6"
  }
 },
 "nbformat": 4,
 "nbformat_minor": 2
}

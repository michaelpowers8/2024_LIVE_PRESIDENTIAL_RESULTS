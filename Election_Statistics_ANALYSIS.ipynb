{
 "cells": [
  {
   "cell_type": "markdown",
   "metadata": {},
   "source": [
    "# Election Statistics ANALYSIS"
   ]
  },
  {
   "cell_type": "markdown",
   "metadata": {},
   "source": [
    "## Importing Libraries"
   ]
  },
  {
   "cell_type": "code",
   "execution_count": 1,
   "metadata": {},
   "outputs": [],
   "source": [
    "from pandas import DataFrame,read_csv,concat,options,set_option,to_datetime,to_numeric\n",
    "from os import listdir"
   ]
  },
  {
   "cell_type": "code",
   "execution_count": 2,
   "metadata": {},
   "outputs": [],
   "source": [
    "options.display.float_format = \"{:,.2f}\".format\n",
    "set_option('display.max_rows',50)"
   ]
  },
  {
   "cell_type": "markdown",
   "metadata": {},
   "source": [
    "## National/State Summaries"
   ]
  },
  {
   "cell_type": "markdown",
   "metadata": {},
   "source": [
    "### Load Data"
   ]
  },
  {
   "cell_type": "code",
   "execution_count": 3,
   "metadata": {},
   "outputs": [],
   "source": [
    "csv_files:list[str] = listdir('State_Summary_Results')\n",
    "data:dict[str,DataFrame] = {}\n",
    "df:DataFrame = DataFrame(['State','KH_Vote_Count', 'KH_Vote_Pct', 'DT_Vote_Count', 'DT_Vote_Pct','Pct_Reported'])"
   ]
  },
  {
   "cell_type": "code",
   "execution_count": 4,
   "metadata": {},
   "outputs": [],
   "source": [
    "for file in csv_files:\n",
    "    if('FINAL' in file):\n",
    "        data[file.replace('_Results.csv','').replace('FINAL_','')] = read_csv(f\"State_Summary_Results/{file}\")"
   ]
  },
  {
   "cell_type": "markdown",
   "metadata": {},
   "source": [
    "### Merge state summaries into one giant national table"
   ]
  },
  {
   "cell_type": "code",
   "execution_count": null,
   "metadata": {},
   "outputs": [],
   "source": [
    "for key,item in data.items():\n",
    "    item.insert(loc=1,column='State',value=key)\n",
    "    df:DataFrame = concat([df,item],axis=0)"
   ]
  },
  {
   "cell_type": "code",
   "execution_count": null,
   "metadata": {},
   "outputs": [],
   "source": [
    "all_states_summary_df = df.drop([0],axis=1).reset_index(drop=True).iloc[6:]"
   ]
  },
  {
   "cell_type": "markdown",
   "metadata": {},
   "source": [
    "### Add Nationwide Total Vote Count Columns"
   ]
  },
  {
   "cell_type": "code",
   "execution_count": null,
   "metadata": {},
   "outputs": [],
   "source": [
    "total_votes:DataFrame = all_states_summary_df.groupby('Datetime_Extraction').sum(numeric_only=True)"
   ]
  },
  {
   "cell_type": "code",
   "execution_count": null,
   "metadata": {},
   "outputs": [],
   "source": [
    "total_votes['Nationwide_Total_Votes'] = total_votes['KH_Vote_Count']+total_votes['DT_Vote_Count']\n",
    "total_votes['Additional_Votes_Since_Last_Update'] = total_votes['Nationwide_Total_Votes'].diff()\n",
    "#total_votes['Average_Additional_Votes_Per_Minute'] = total_votes['Additional_Votes_Since_Last_Update'].fillna(0).astype(float)/to_datetime(total_votes.index.to_series()).diff()"
   ]
  },
  {
   "cell_type": "code",
   "execution_count": null,
   "metadata": {},
   "outputs": [],
   "source": [
    "vote_updates:DataFrame = total_votes.reset_index(drop=False).groupby('Nationwide_Total_Votes').first().reset_index()[['Datetime_Extraction','Nationwide_Total_Votes','KH_Vote_Count','DT_Vote_Count']]"
   ]
  },
  {
   "cell_type": "code",
   "execution_count": null,
   "metadata": {},
   "outputs": [],
   "source": [
    "vote_updates['Vote_Change'] = vote_updates['Nationwide_Total_Votes'].diff().fillna(0)"
   ]
  },
  {
   "cell_type": "code",
   "execution_count": null,
   "metadata": {},
   "outputs": [],
   "source": [
    "total_votes[total_votes['Additional_Votes_Since_Last_Update']>0][['KH_Vote_Count','DT_Vote_Count','Nationwide_Total_Votes','Additional_Votes_Since_Last_Update']].to_csv('ANALYSIS/Nationwide_Vote_Count_Updates.csv',index=True)"
   ]
  },
  {
   "cell_type": "code",
   "execution_count": null,
   "metadata": {},
   "outputs": [],
   "source": [
    "total_votes[total_votes['Additional_Votes_Since_Last_Update']>0][['KH_Vote_Count','DT_Vote_Count','Nationwide_Total_Votes','Additional_Votes_Since_Last_Update']].info()"
   ]
  },
  {
   "cell_type": "markdown",
   "metadata": {},
   "source": [
    "### Group State Summaries By Vote Count Changes"
   ]
  },
  {
   "cell_type": "code",
   "execution_count": 24,
   "metadata": {},
   "outputs": [],
   "source": [
    "for key,item in data.items():\n",
    "    temp_df:DataFrame = item.copy()\n",
    "    temp_df.insert(5,'Total_Votes',temp_df['KH_Vote_Count']+temp_df['DT_Vote_Count'])\n",
    "    temp_df:DataFrame = temp_df.groupby('Total_Votes').first().reset_index(drop=False)\n",
    "    temp_df['Additional_Votes_Since_Last_Update'] = temp_df['Total_Votes'].diff()\n",
    "    temp_df['Additional_Trump_Votes_Since_Last_Update'] = temp_df['DT_Vote_Count'].diff()\n",
    "    temp_df['Additional_Harris_Votes_Since_Last_Update'] = temp_df['KH_Vote_Count'].diff()\n",
    "    temp_df['Pct_New_Votes_For_Trump'] = (temp_df['Additional_Trump_Votes_Since_Last_Update']/temp_df['Additional_Votes_Since_Last_Update'])*100\n",
    "    temp_df['Pct_New_Votes_For_Harris'] = (temp_df['Additional_Harris_Votes_Since_Last_Update']/temp_df['Additional_Votes_Since_Last_Update'])*100\n",
    "    temp_df:DataFrame = temp_df.fillna(0)\n",
    "    cols = list(temp_df)\n",
    "    cols.insert(0, cols.pop(cols.index('Datetime_Extraction')))\n",
    "    temp_df = temp_df.loc[:, cols]\n",
    "    for col in temp_df.columns:\n",
    "        try:\n",
    "            temp_df[col] = temp_df[col].astype(float)\n",
    "        except:pass\n",
    "    temp_df.to_csv(f'ANALYSIS/{key}_Vote_Count_Updates.csv',index=True)"
   ]
  }
 ],
 "metadata": {
  "kernelspec": {
   "display_name": "Python 3",
   "language": "python",
   "name": "python3"
  },
  "language_info": {
   "codemirror_mode": {
    "name": "ipython",
    "version": 3
   },
   "file_extension": ".py",
   "mimetype": "text/x-python",
   "name": "python",
   "nbconvert_exporter": "python",
   "pygments_lexer": "ipython3",
   "version": "3.11.6"
  }
 },
 "nbformat": 4,
 "nbformat_minor": 2
}
